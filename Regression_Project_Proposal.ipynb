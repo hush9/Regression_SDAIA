{
 "cells": [
  {
   "cell_type": "markdown",
   "id": "071ce0bd",
   "metadata": {},
   "source": [
    "# Regression Project Proposal"
   ]
  },
  {
   "cell_type": "markdown",
   "id": "0a7fa341",
   "metadata": {},
   "source": [
    "### Project Description"
   ]
  },
  {
   "cell_type": "markdown",
   "id": "83c7af0d",
   "metadata": {},
   "source": [
    "\n",
    "The purpose of our module is to compare laptop prices based on multiple features for customers needs. \n",
    "\n",
    "---\n"
   ]
  },
  {
   "cell_type": "markdown",
   "id": "9e487ee7",
   "metadata": {},
   "source": [
    "### Data Description"
   ]
  },
  {
   "cell_type": "markdown",
   "id": "362a6714",
   "metadata": {},
   "source": [
    "###### The dataset that will be used for this project is Amazon.us. The data points are about 1000 with 10 features and will be taken by web scraping. \n",
    "\n",
    " Features:\n",
    "\n",
    "1. Brand  \n",
    "\n",
    "2. Screen Size\n",
    "\n",
    "3. Screen Resolution\n",
    "\n",
    "4. Processor Type\n",
    "\n",
    "5. Processor Speed \n",
    "\n",
    "6. RAM\n",
    "\n",
    "7. Hard drive\n",
    "\n",
    "8. Graphics Card\n",
    "\n",
    "9. Chip Brand \n",
    "\n",
    "10. Battery Life \n",
    "\n",
    "11. Weight \n",
    "\n",
    "12. Price\n",
    "\n",
    "---"
   ]
  },
  {
   "cell_type": "markdown",
   "id": "d2af6fd1",
   "metadata": {},
   "source": [
    "## Tools"
   ]
  },
  {
   "cell_type": "markdown",
   "id": "5e6a6267",
   "metadata": {},
   "source": [
    "\n",
    "\n",
    "    \n",
    "- Python \n",
    "\n",
    "- Linear Regression \n",
    "\n",
    "- BeautifulSoup\n",
    "\n",
    "- bs4 \n",
    "\n",
    "- Selenium \n",
    "\n",
    "- Requests \n",
    "\n",
    "- Webdriver \n",
    "\n",
    "- Matplotlib & Seaborn \n",
    "\n",
    "- Numpy & Pandans \n",
    "\n",
    "---\n",
    "\n"
   ]
  },
  {
   "cell_type": "markdown",
   "id": "a06d4fbd",
   "metadata": {},
   "source": [
    "# MVP(Minimum Viable Product)"
   ]
  },
  {
   "cell_type": "markdown",
   "id": "772f7097",
   "metadata": {},
   "source": [
    "###### The minimum viable product of this project is determining the prediction of Computer Price based on the Features of what the customers needs. If the customer want a processor i7 and hard drive 1tb with 8GB Ram. it will show the prediction of Price Based on DataFram we have."
   ]
  },
  {
   "cell_type": "markdown",
   "id": "9d95e176",
   "metadata": {},
   "source": [
    "##### Prepared by:\n",
    "\n",
    "- Abdullah Al-Huwaishel\n",
    "\n",
    "- Abdalla Al-Nujaidy\n",
    "\n",
    "##### Supervised by: Srinvas Rao"
   ]
  }
 ],
 "metadata": {
  "kernelspec": {
   "display_name": "Python 3",
   "language": "python",
   "name": "python3"
  },
  "language_info": {
   "codemirror_mode": {
    "name": "ipython",
    "version": 3
   },
   "file_extension": ".py",
   "mimetype": "text/x-python",
   "name": "python",
   "nbconvert_exporter": "python",
   "pygments_lexer": "ipython3",
   "version": "3.8.8"
  }
 },
 "nbformat": 4,
 "nbformat_minor": 5
}
