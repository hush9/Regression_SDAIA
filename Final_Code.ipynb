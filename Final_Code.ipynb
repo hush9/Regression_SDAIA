{
 "cells": [
  {
   "cell_type": "code",
   "execution_count": 2,
   "id": "cc13beaa",
   "metadata": {},
   "outputs": [],
   "source": [
    "import pandas as pd\n",
    "import numpy as np\n",
    "import os\n",
    "from bs4 import BeautifulSoup\n",
    "from selenium import webdriver\n",
    "import matplotlib.pyplot as plt\n",
    "import re\n",
    "from rich import print\n",
    "from rich.progress import track\n",
    "import seaborn as sns\n",
    "from sklearn.linear_model import Lasso, Ridge, ElasticNet,LassoCV,RidgeCV\n",
    "from sklearn.model_selection import cross_val_score, train_test_split,KFold, GridSearchCV\n",
    "from sklearn.preprocessing import PolynomialFeatures\n",
    "from selenium.webdriver.common.keys import Keys"
   ]
  },
  {
   "cell_type": "code",
   "execution_count": null,
   "id": "eccecec4",
   "metadata": {},
   "outputs": [],
   "source": [
    "pd.set_option('display.max_columns', None)\n",
    "pd.set_option('display.max_rows', None)"
   ]
  },
  {
   "cell_type": "code",
   "execution_count": 4,
   "id": "39f46d03",
   "metadata": {},
   "outputs": [],
   "source": [
    "def get_url(search_term):\n",
    "    \"\"\"Generate url with search term\"\"\"\n",
    "    \n",
    "    template = \"https://www.amazon.com/s?k={}&ref=nb_sb_noss_2\"\n",
    "    search_term = search_term.replace(\" \", \"+\")\n",
    "    \n",
    "    \n",
    "    # Add search term to url\n",
    "    url = template.format(search_term)\n",
    "    \n",
    "    # Add page query to the placeholder\n",
    "    url += '&page={}'\n",
    "    \n",
    "    return url\n",
    "\n",
    "def extract_record(item):\n",
    "    \"\"\"Extract and return data from single record\"\"\"\n",
    "        \n",
    "    # name and url\n",
    "    atag = item.h2.a\n",
    "    name = atag.text.strip()\n",
    "    new_url = \"http://www.amazon.com\"+atag.get('href')\n",
    "    \n",
    "    \n",
    "    \n",
    "    res = [name, new_url]\n",
    "    return res\n",
    "\n",
    "def main(search_term, file_name): # File name should have .csv ending\n",
    "    \n",
    "    chromedriver = \"C:\\Program Files\\Google\\Chrome\\Application\\chromedriver\"\n",
    "    os.environ[\"webdriver.chrome.driver\"] = chromedriver\n",
    "    DRIVER = webdriver.Chrome(chromedriver)\n",
    "    \n",
    "\n",
    "    \n",
    "    DATA = []\n",
    "    URL = get_url(search_term)\n",
    "    \n",
    "    for page in range(1,10):\n",
    "        DRIVER.get(URL.format(page))\n",
    "        SOUP = BeautifulSoup(DRIVER.page_source, 'html.parser')\n",
    "        RESULTS = SOUP.find_all('div', {'data-component-type': 's-search-result'})\n",
    "        for item in RESULTS:\n",
    "            RES = extract_record(item)\n",
    "            if RES:\n",
    "                DATA.append(RES)\n",
    "    \n",
    "    DRIVER.close()\n",
    "    \n",
    "    df = pd.DataFrame(DATA, columns = ['Name', 'URL'])\n",
    "    df.to_csv(file_name, index=False)"
   ]
  },
  {
   "cell_type": "code",
   "execution_count": 5,
   "id": "131baa11",
   "metadata": {
    "collapsed": true
   },
   "outputs": [
    {
     "ename": "KeyboardInterrupt",
     "evalue": "",
     "output_type": "error",
     "traceback": [
      "\u001b[1;31m---------------------------------------------------------------------------\u001b[0m",
      "\u001b[1;31mKeyboardInterrupt\u001b[0m                         Traceback (most recent call last)",
      "\u001b[1;32m<ipython-input-5-a9c284959fbc>\u001b[0m in \u001b[0;36m<module>\u001b[1;34m\u001b[0m\n\u001b[1;32m----> 1\u001b[1;33m \u001b[0mmain\u001b[0m\u001b[1;33m(\u001b[0m\u001b[1;34m\"laptop\"\u001b[0m\u001b[1;33m,\u001b[0m \u001b[1;34m\"Amazon_Laptop.csv\"\u001b[0m\u001b[1;33m)\u001b[0m\u001b[1;33m\u001b[0m\u001b[1;33m\u001b[0m\u001b[0m\n\u001b[0m",
      "\u001b[1;32m<ipython-input-4-b13fa01f4841>\u001b[0m in \u001b[0;36mmain\u001b[1;34m(search_term, file_name)\u001b[0m\n\u001b[0;32m     40\u001b[0m     \u001b[1;32mfor\u001b[0m \u001b[0mpage\u001b[0m \u001b[1;32min\u001b[0m \u001b[0mrange\u001b[0m\u001b[1;33m(\u001b[0m\u001b[1;36m1\u001b[0m\u001b[1;33m,\u001b[0m\u001b[1;36m10\u001b[0m\u001b[1;33m)\u001b[0m\u001b[1;33m:\u001b[0m\u001b[1;33m\u001b[0m\u001b[1;33m\u001b[0m\u001b[0m\n\u001b[0;32m     41\u001b[0m         \u001b[0mDRIVER\u001b[0m\u001b[1;33m.\u001b[0m\u001b[0mget\u001b[0m\u001b[1;33m(\u001b[0m\u001b[0mURL\u001b[0m\u001b[1;33m.\u001b[0m\u001b[0mformat\u001b[0m\u001b[1;33m(\u001b[0m\u001b[0mpage\u001b[0m\u001b[1;33m)\u001b[0m\u001b[1;33m)\u001b[0m\u001b[1;33m\u001b[0m\u001b[1;33m\u001b[0m\u001b[0m\n\u001b[1;32m---> 42\u001b[1;33m         \u001b[0mSOUP\u001b[0m \u001b[1;33m=\u001b[0m \u001b[0mBeautifulSoup\u001b[0m\u001b[1;33m(\u001b[0m\u001b[0mDRIVER\u001b[0m\u001b[1;33m.\u001b[0m\u001b[0mpage_source\u001b[0m\u001b[1;33m,\u001b[0m \u001b[1;34m'html.parser'\u001b[0m\u001b[1;33m)\u001b[0m\u001b[1;33m\u001b[0m\u001b[1;33m\u001b[0m\u001b[0m\n\u001b[0m\u001b[0;32m     43\u001b[0m         \u001b[0mRESULTS\u001b[0m \u001b[1;33m=\u001b[0m \u001b[0mSOUP\u001b[0m\u001b[1;33m.\u001b[0m\u001b[0mfind_all\u001b[0m\u001b[1;33m(\u001b[0m\u001b[1;34m'div'\u001b[0m\u001b[1;33m,\u001b[0m \u001b[1;33m{\u001b[0m\u001b[1;34m'data-component-type'\u001b[0m\u001b[1;33m:\u001b[0m \u001b[1;34m's-search-result'\u001b[0m\u001b[1;33m}\u001b[0m\u001b[1;33m)\u001b[0m\u001b[1;33m\u001b[0m\u001b[1;33m\u001b[0m\u001b[0m\n\u001b[0;32m     44\u001b[0m         \u001b[1;32mfor\u001b[0m \u001b[0mitem\u001b[0m \u001b[1;32min\u001b[0m \u001b[0mRESULTS\u001b[0m\u001b[1;33m:\u001b[0m\u001b[1;33m\u001b[0m\u001b[1;33m\u001b[0m\u001b[0m\n",
      "\u001b[1;32m~\\anaconda3\\lib\\site-packages\\selenium\\webdriver\\remote\\webdriver.py\u001b[0m in \u001b[0;36mpage_source\u001b[1;34m(self)\u001b[0m\n\u001b[0;32m    677\u001b[0m             \u001b[0mdriver\u001b[0m\u001b[1;33m.\u001b[0m\u001b[0mpage_source\u001b[0m\u001b[1;33m\u001b[0m\u001b[1;33m\u001b[0m\u001b[0m\n\u001b[0;32m    678\u001b[0m         \"\"\"\n\u001b[1;32m--> 679\u001b[1;33m         \u001b[1;32mreturn\u001b[0m \u001b[0mself\u001b[0m\u001b[1;33m.\u001b[0m\u001b[0mexecute\u001b[0m\u001b[1;33m(\u001b[0m\u001b[0mCommand\u001b[0m\u001b[1;33m.\u001b[0m\u001b[0mGET_PAGE_SOURCE\u001b[0m\u001b[1;33m)\u001b[0m\u001b[1;33m[\u001b[0m\u001b[1;34m'value'\u001b[0m\u001b[1;33m]\u001b[0m\u001b[1;33m\u001b[0m\u001b[1;33m\u001b[0m\u001b[0m\n\u001b[0m\u001b[0;32m    680\u001b[0m \u001b[1;33m\u001b[0m\u001b[0m\n\u001b[0;32m    681\u001b[0m     \u001b[1;32mdef\u001b[0m \u001b[0mclose\u001b[0m\u001b[1;33m(\u001b[0m\u001b[0mself\u001b[0m\u001b[1;33m)\u001b[0m\u001b[1;33m:\u001b[0m\u001b[1;33m\u001b[0m\u001b[1;33m\u001b[0m\u001b[0m\n",
      "\u001b[1;32m~\\anaconda3\\lib\\site-packages\\selenium\\webdriver\\remote\\webdriver.py\u001b[0m in \u001b[0;36mexecute\u001b[1;34m(self, driver_command, params)\u001b[0m\n\u001b[0;32m    317\u001b[0m \u001b[1;33m\u001b[0m\u001b[0m\n\u001b[0;32m    318\u001b[0m         \u001b[0mparams\u001b[0m \u001b[1;33m=\u001b[0m \u001b[0mself\u001b[0m\u001b[1;33m.\u001b[0m\u001b[0m_wrap_value\u001b[0m\u001b[1;33m(\u001b[0m\u001b[0mparams\u001b[0m\u001b[1;33m)\u001b[0m\u001b[1;33m\u001b[0m\u001b[1;33m\u001b[0m\u001b[0m\n\u001b[1;32m--> 319\u001b[1;33m         \u001b[0mresponse\u001b[0m \u001b[1;33m=\u001b[0m \u001b[0mself\u001b[0m\u001b[1;33m.\u001b[0m\u001b[0mcommand_executor\u001b[0m\u001b[1;33m.\u001b[0m\u001b[0mexecute\u001b[0m\u001b[1;33m(\u001b[0m\u001b[0mdriver_command\u001b[0m\u001b[1;33m,\u001b[0m \u001b[0mparams\u001b[0m\u001b[1;33m)\u001b[0m\u001b[1;33m\u001b[0m\u001b[1;33m\u001b[0m\u001b[0m\n\u001b[0m\u001b[0;32m    320\u001b[0m         \u001b[1;32mif\u001b[0m \u001b[0mresponse\u001b[0m\u001b[1;33m:\u001b[0m\u001b[1;33m\u001b[0m\u001b[1;33m\u001b[0m\u001b[0m\n\u001b[0;32m    321\u001b[0m             \u001b[0mself\u001b[0m\u001b[1;33m.\u001b[0m\u001b[0merror_handler\u001b[0m\u001b[1;33m.\u001b[0m\u001b[0mcheck_response\u001b[0m\u001b[1;33m(\u001b[0m\u001b[0mresponse\u001b[0m\u001b[1;33m)\u001b[0m\u001b[1;33m\u001b[0m\u001b[1;33m\u001b[0m\u001b[0m\n",
      "\u001b[1;32m~\\anaconda3\\lib\\site-packages\\selenium\\webdriver\\remote\\remote_connection.py\u001b[0m in \u001b[0;36mexecute\u001b[1;34m(self, command, params)\u001b[0m\n\u001b[0;32m    372\u001b[0m         \u001b[0mdata\u001b[0m \u001b[1;33m=\u001b[0m \u001b[0mutils\u001b[0m\u001b[1;33m.\u001b[0m\u001b[0mdump_json\u001b[0m\u001b[1;33m(\u001b[0m\u001b[0mparams\u001b[0m\u001b[1;33m)\u001b[0m\u001b[1;33m\u001b[0m\u001b[1;33m\u001b[0m\u001b[0m\n\u001b[0;32m    373\u001b[0m         \u001b[0murl\u001b[0m \u001b[1;33m=\u001b[0m \u001b[1;34m'%s%s'\u001b[0m \u001b[1;33m%\u001b[0m \u001b[1;33m(\u001b[0m\u001b[0mself\u001b[0m\u001b[1;33m.\u001b[0m\u001b[0m_url\u001b[0m\u001b[1;33m,\u001b[0m \u001b[0mpath\u001b[0m\u001b[1;33m)\u001b[0m\u001b[1;33m\u001b[0m\u001b[1;33m\u001b[0m\u001b[0m\n\u001b[1;32m--> 374\u001b[1;33m         \u001b[1;32mreturn\u001b[0m \u001b[0mself\u001b[0m\u001b[1;33m.\u001b[0m\u001b[0m_request\u001b[0m\u001b[1;33m(\u001b[0m\u001b[0mcommand_info\u001b[0m\u001b[1;33m[\u001b[0m\u001b[1;36m0\u001b[0m\u001b[1;33m]\u001b[0m\u001b[1;33m,\u001b[0m \u001b[0murl\u001b[0m\u001b[1;33m,\u001b[0m \u001b[0mbody\u001b[0m\u001b[1;33m=\u001b[0m\u001b[0mdata\u001b[0m\u001b[1;33m)\u001b[0m\u001b[1;33m\u001b[0m\u001b[1;33m\u001b[0m\u001b[0m\n\u001b[0m\u001b[0;32m    375\u001b[0m \u001b[1;33m\u001b[0m\u001b[0m\n\u001b[0;32m    376\u001b[0m     \u001b[1;32mdef\u001b[0m \u001b[0m_request\u001b[0m\u001b[1;33m(\u001b[0m\u001b[0mself\u001b[0m\u001b[1;33m,\u001b[0m \u001b[0mmethod\u001b[0m\u001b[1;33m,\u001b[0m \u001b[0murl\u001b[0m\u001b[1;33m,\u001b[0m \u001b[0mbody\u001b[0m\u001b[1;33m=\u001b[0m\u001b[1;32mNone\u001b[0m\u001b[1;33m)\u001b[0m\u001b[1;33m:\u001b[0m\u001b[1;33m\u001b[0m\u001b[1;33m\u001b[0m\u001b[0m\n",
      "\u001b[1;32m~\\anaconda3\\lib\\site-packages\\selenium\\webdriver\\remote\\remote_connection.py\u001b[0m in \u001b[0;36m_request\u001b[1;34m(self, method, url, body)\u001b[0m\n\u001b[0;32m    395\u001b[0m \u001b[1;33m\u001b[0m\u001b[0m\n\u001b[0;32m    396\u001b[0m         \u001b[1;32mif\u001b[0m \u001b[0mself\u001b[0m\u001b[1;33m.\u001b[0m\u001b[0mkeep_alive\u001b[0m\u001b[1;33m:\u001b[0m\u001b[1;33m\u001b[0m\u001b[1;33m\u001b[0m\u001b[0m\n\u001b[1;32m--> 397\u001b[1;33m             \u001b[0mresp\u001b[0m \u001b[1;33m=\u001b[0m \u001b[0mself\u001b[0m\u001b[1;33m.\u001b[0m\u001b[0m_conn\u001b[0m\u001b[1;33m.\u001b[0m\u001b[0mrequest\u001b[0m\u001b[1;33m(\u001b[0m\u001b[0mmethod\u001b[0m\u001b[1;33m,\u001b[0m \u001b[0murl\u001b[0m\u001b[1;33m,\u001b[0m \u001b[0mbody\u001b[0m\u001b[1;33m=\u001b[0m\u001b[0mbody\u001b[0m\u001b[1;33m,\u001b[0m \u001b[0mheaders\u001b[0m\u001b[1;33m=\u001b[0m\u001b[0mheaders\u001b[0m\u001b[1;33m)\u001b[0m\u001b[1;33m\u001b[0m\u001b[1;33m\u001b[0m\u001b[0m\n\u001b[0m\u001b[0;32m    398\u001b[0m \u001b[1;33m\u001b[0m\u001b[0m\n\u001b[0;32m    399\u001b[0m             \u001b[0mstatuscode\u001b[0m \u001b[1;33m=\u001b[0m \u001b[0mresp\u001b[0m\u001b[1;33m.\u001b[0m\u001b[0mstatus\u001b[0m\u001b[1;33m\u001b[0m\u001b[1;33m\u001b[0m\u001b[0m\n",
      "\u001b[1;32m~\\anaconda3\\lib\\site-packages\\urllib3\\request.py\u001b[0m in \u001b[0;36mrequest\u001b[1;34m(self, method, url, fields, headers, **urlopen_kw)\u001b[0m\n\u001b[0;32m     72\u001b[0m \u001b[1;33m\u001b[0m\u001b[0m\n\u001b[0;32m     73\u001b[0m         \u001b[1;32mif\u001b[0m \u001b[0mmethod\u001b[0m \u001b[1;32min\u001b[0m \u001b[0mself\u001b[0m\u001b[1;33m.\u001b[0m\u001b[0m_encode_url_methods\u001b[0m\u001b[1;33m:\u001b[0m\u001b[1;33m\u001b[0m\u001b[1;33m\u001b[0m\u001b[0m\n\u001b[1;32m---> 74\u001b[1;33m             return self.request_encode_url(\n\u001b[0m\u001b[0;32m     75\u001b[0m                 \u001b[0mmethod\u001b[0m\u001b[1;33m,\u001b[0m \u001b[0murl\u001b[0m\u001b[1;33m,\u001b[0m \u001b[0mfields\u001b[0m\u001b[1;33m=\u001b[0m\u001b[0mfields\u001b[0m\u001b[1;33m,\u001b[0m \u001b[0mheaders\u001b[0m\u001b[1;33m=\u001b[0m\u001b[0mheaders\u001b[0m\u001b[1;33m,\u001b[0m \u001b[1;33m**\u001b[0m\u001b[0murlopen_kw\u001b[0m\u001b[1;33m\u001b[0m\u001b[1;33m\u001b[0m\u001b[0m\n\u001b[0;32m     76\u001b[0m             )\n",
      "\u001b[1;32m~\\anaconda3\\lib\\site-packages\\urllib3\\request.py\u001b[0m in \u001b[0;36mrequest_encode_url\u001b[1;34m(self, method, url, fields, headers, **urlopen_kw)\u001b[0m\n\u001b[0;32m     94\u001b[0m             \u001b[0murl\u001b[0m \u001b[1;33m+=\u001b[0m \u001b[1;34m\"?\"\u001b[0m \u001b[1;33m+\u001b[0m \u001b[0murlencode\u001b[0m\u001b[1;33m(\u001b[0m\u001b[0mfields\u001b[0m\u001b[1;33m)\u001b[0m\u001b[1;33m\u001b[0m\u001b[1;33m\u001b[0m\u001b[0m\n\u001b[0;32m     95\u001b[0m \u001b[1;33m\u001b[0m\u001b[0m\n\u001b[1;32m---> 96\u001b[1;33m         \u001b[1;32mreturn\u001b[0m \u001b[0mself\u001b[0m\u001b[1;33m.\u001b[0m\u001b[0murlopen\u001b[0m\u001b[1;33m(\u001b[0m\u001b[0mmethod\u001b[0m\u001b[1;33m,\u001b[0m \u001b[0murl\u001b[0m\u001b[1;33m,\u001b[0m \u001b[1;33m**\u001b[0m\u001b[0mextra_kw\u001b[0m\u001b[1;33m)\u001b[0m\u001b[1;33m\u001b[0m\u001b[1;33m\u001b[0m\u001b[0m\n\u001b[0m\u001b[0;32m     97\u001b[0m \u001b[1;33m\u001b[0m\u001b[0m\n\u001b[0;32m     98\u001b[0m     def request_encode_body(\n",
      "\u001b[1;32m~\\anaconda3\\lib\\site-packages\\urllib3\\poolmanager.py\u001b[0m in \u001b[0;36murlopen\u001b[1;34m(self, method, url, redirect, **kw)\u001b[0m\n\u001b[0;32m    373\u001b[0m             \u001b[0mresponse\u001b[0m \u001b[1;33m=\u001b[0m \u001b[0mconn\u001b[0m\u001b[1;33m.\u001b[0m\u001b[0murlopen\u001b[0m\u001b[1;33m(\u001b[0m\u001b[0mmethod\u001b[0m\u001b[1;33m,\u001b[0m \u001b[0murl\u001b[0m\u001b[1;33m,\u001b[0m \u001b[1;33m**\u001b[0m\u001b[0mkw\u001b[0m\u001b[1;33m)\u001b[0m\u001b[1;33m\u001b[0m\u001b[1;33m\u001b[0m\u001b[0m\n\u001b[0;32m    374\u001b[0m         \u001b[1;32melse\u001b[0m\u001b[1;33m:\u001b[0m\u001b[1;33m\u001b[0m\u001b[1;33m\u001b[0m\u001b[0m\n\u001b[1;32m--> 375\u001b[1;33m             \u001b[0mresponse\u001b[0m \u001b[1;33m=\u001b[0m \u001b[0mconn\u001b[0m\u001b[1;33m.\u001b[0m\u001b[0murlopen\u001b[0m\u001b[1;33m(\u001b[0m\u001b[0mmethod\u001b[0m\u001b[1;33m,\u001b[0m \u001b[0mu\u001b[0m\u001b[1;33m.\u001b[0m\u001b[0mrequest_uri\u001b[0m\u001b[1;33m,\u001b[0m \u001b[1;33m**\u001b[0m\u001b[0mkw\u001b[0m\u001b[1;33m)\u001b[0m\u001b[1;33m\u001b[0m\u001b[1;33m\u001b[0m\u001b[0m\n\u001b[0m\u001b[0;32m    376\u001b[0m \u001b[1;33m\u001b[0m\u001b[0m\n\u001b[0;32m    377\u001b[0m         \u001b[0mredirect_location\u001b[0m \u001b[1;33m=\u001b[0m \u001b[0mredirect\u001b[0m \u001b[1;32mand\u001b[0m \u001b[0mresponse\u001b[0m\u001b[1;33m.\u001b[0m\u001b[0mget_redirect_location\u001b[0m\u001b[1;33m(\u001b[0m\u001b[1;33m)\u001b[0m\u001b[1;33m\u001b[0m\u001b[1;33m\u001b[0m\u001b[0m\n",
      "\u001b[1;32m~\\anaconda3\\lib\\site-packages\\urllib3\\connectionpool.py\u001b[0m in \u001b[0;36murlopen\u001b[1;34m(self, method, url, body, headers, retries, redirect, assert_same_host, timeout, pool_timeout, release_conn, chunked, body_pos, **response_kw)\u001b[0m\n\u001b[0;32m    697\u001b[0m \u001b[1;33m\u001b[0m\u001b[0m\n\u001b[0;32m    698\u001b[0m             \u001b[1;31m# Make the request on the httplib connection object.\u001b[0m\u001b[1;33m\u001b[0m\u001b[1;33m\u001b[0m\u001b[1;33m\u001b[0m\u001b[0m\n\u001b[1;32m--> 699\u001b[1;33m             httplib_response = self._make_request(\n\u001b[0m\u001b[0;32m    700\u001b[0m                 \u001b[0mconn\u001b[0m\u001b[1;33m,\u001b[0m\u001b[1;33m\u001b[0m\u001b[1;33m\u001b[0m\u001b[0m\n\u001b[0;32m    701\u001b[0m                 \u001b[0mmethod\u001b[0m\u001b[1;33m,\u001b[0m\u001b[1;33m\u001b[0m\u001b[1;33m\u001b[0m\u001b[0m\n",
      "\u001b[1;32m~\\anaconda3\\lib\\site-packages\\urllib3\\connectionpool.py\u001b[0m in \u001b[0;36m_make_request\u001b[1;34m(self, conn, method, url, timeout, chunked, **httplib_request_kw)\u001b[0m\n\u001b[0;32m    443\u001b[0m                     \u001b[1;31m# Python 3 (including for exceptions like SystemExit).\u001b[0m\u001b[1;33m\u001b[0m\u001b[1;33m\u001b[0m\u001b[1;33m\u001b[0m\u001b[0m\n\u001b[0;32m    444\u001b[0m                     \u001b[1;31m# Otherwise it looks like a bug in the code.\u001b[0m\u001b[1;33m\u001b[0m\u001b[1;33m\u001b[0m\u001b[1;33m\u001b[0m\u001b[0m\n\u001b[1;32m--> 445\u001b[1;33m                     \u001b[0msix\u001b[0m\u001b[1;33m.\u001b[0m\u001b[0mraise_from\u001b[0m\u001b[1;33m(\u001b[0m\u001b[0me\u001b[0m\u001b[1;33m,\u001b[0m \u001b[1;32mNone\u001b[0m\u001b[1;33m)\u001b[0m\u001b[1;33m\u001b[0m\u001b[1;33m\u001b[0m\u001b[0m\n\u001b[0m\u001b[0;32m    446\u001b[0m         \u001b[1;32mexcept\u001b[0m \u001b[1;33m(\u001b[0m\u001b[0mSocketTimeout\u001b[0m\u001b[1;33m,\u001b[0m \u001b[0mBaseSSLError\u001b[0m\u001b[1;33m,\u001b[0m \u001b[0mSocketError\u001b[0m\u001b[1;33m)\u001b[0m \u001b[1;32mas\u001b[0m \u001b[0me\u001b[0m\u001b[1;33m:\u001b[0m\u001b[1;33m\u001b[0m\u001b[1;33m\u001b[0m\u001b[0m\n\u001b[0;32m    447\u001b[0m             \u001b[0mself\u001b[0m\u001b[1;33m.\u001b[0m\u001b[0m_raise_timeout\u001b[0m\u001b[1;33m(\u001b[0m\u001b[0merr\u001b[0m\u001b[1;33m=\u001b[0m\u001b[0me\u001b[0m\u001b[1;33m,\u001b[0m \u001b[0murl\u001b[0m\u001b[1;33m=\u001b[0m\u001b[0murl\u001b[0m\u001b[1;33m,\u001b[0m \u001b[0mtimeout_value\u001b[0m\u001b[1;33m=\u001b[0m\u001b[0mread_timeout\u001b[0m\u001b[1;33m)\u001b[0m\u001b[1;33m\u001b[0m\u001b[1;33m\u001b[0m\u001b[0m\n",
      "\u001b[1;32m~\\anaconda3\\lib\\site-packages\\urllib3\\packages\\six.py\u001b[0m in \u001b[0;36mraise_from\u001b[1;34m(value, from_value)\u001b[0m\n",
      "\u001b[1;32m~\\anaconda3\\lib\\site-packages\\urllib3\\connectionpool.py\u001b[0m in \u001b[0;36m_make_request\u001b[1;34m(self, conn, method, url, timeout, chunked, **httplib_request_kw)\u001b[0m\n\u001b[0;32m    438\u001b[0m                 \u001b[1;31m# Python 3\u001b[0m\u001b[1;33m\u001b[0m\u001b[1;33m\u001b[0m\u001b[1;33m\u001b[0m\u001b[0m\n\u001b[0;32m    439\u001b[0m                 \u001b[1;32mtry\u001b[0m\u001b[1;33m:\u001b[0m\u001b[1;33m\u001b[0m\u001b[1;33m\u001b[0m\u001b[0m\n\u001b[1;32m--> 440\u001b[1;33m                     \u001b[0mhttplib_response\u001b[0m \u001b[1;33m=\u001b[0m \u001b[0mconn\u001b[0m\u001b[1;33m.\u001b[0m\u001b[0mgetresponse\u001b[0m\u001b[1;33m(\u001b[0m\u001b[1;33m)\u001b[0m\u001b[1;33m\u001b[0m\u001b[1;33m\u001b[0m\u001b[0m\n\u001b[0m\u001b[0;32m    441\u001b[0m                 \u001b[1;32mexcept\u001b[0m \u001b[0mBaseException\u001b[0m \u001b[1;32mas\u001b[0m \u001b[0me\u001b[0m\u001b[1;33m:\u001b[0m\u001b[1;33m\u001b[0m\u001b[1;33m\u001b[0m\u001b[0m\n\u001b[0;32m    442\u001b[0m                     \u001b[1;31m# Remove the TypeError from the exception chain in\u001b[0m\u001b[1;33m\u001b[0m\u001b[1;33m\u001b[0m\u001b[1;33m\u001b[0m\u001b[0m\n",
      "\u001b[1;32m~\\anaconda3\\lib\\http\\client.py\u001b[0m in \u001b[0;36mgetresponse\u001b[1;34m(self)\u001b[0m\n\u001b[0;32m   1345\u001b[0m         \u001b[1;32mtry\u001b[0m\u001b[1;33m:\u001b[0m\u001b[1;33m\u001b[0m\u001b[1;33m\u001b[0m\u001b[0m\n\u001b[0;32m   1346\u001b[0m             \u001b[1;32mtry\u001b[0m\u001b[1;33m:\u001b[0m\u001b[1;33m\u001b[0m\u001b[1;33m\u001b[0m\u001b[0m\n\u001b[1;32m-> 1347\u001b[1;33m                 \u001b[0mresponse\u001b[0m\u001b[1;33m.\u001b[0m\u001b[0mbegin\u001b[0m\u001b[1;33m(\u001b[0m\u001b[1;33m)\u001b[0m\u001b[1;33m\u001b[0m\u001b[1;33m\u001b[0m\u001b[0m\n\u001b[0m\u001b[0;32m   1348\u001b[0m             \u001b[1;32mexcept\u001b[0m \u001b[0mConnectionError\u001b[0m\u001b[1;33m:\u001b[0m\u001b[1;33m\u001b[0m\u001b[1;33m\u001b[0m\u001b[0m\n\u001b[0;32m   1349\u001b[0m                 \u001b[0mself\u001b[0m\u001b[1;33m.\u001b[0m\u001b[0mclose\u001b[0m\u001b[1;33m(\u001b[0m\u001b[1;33m)\u001b[0m\u001b[1;33m\u001b[0m\u001b[1;33m\u001b[0m\u001b[0m\n",
      "\u001b[1;32m~\\anaconda3\\lib\\http\\client.py\u001b[0m in \u001b[0;36mbegin\u001b[1;34m(self)\u001b[0m\n\u001b[0;32m    305\u001b[0m         \u001b[1;31m# read until we get a non-100 response\u001b[0m\u001b[1;33m\u001b[0m\u001b[1;33m\u001b[0m\u001b[1;33m\u001b[0m\u001b[0m\n\u001b[0;32m    306\u001b[0m         \u001b[1;32mwhile\u001b[0m \u001b[1;32mTrue\u001b[0m\u001b[1;33m:\u001b[0m\u001b[1;33m\u001b[0m\u001b[1;33m\u001b[0m\u001b[0m\n\u001b[1;32m--> 307\u001b[1;33m             \u001b[0mversion\u001b[0m\u001b[1;33m,\u001b[0m \u001b[0mstatus\u001b[0m\u001b[1;33m,\u001b[0m \u001b[0mreason\u001b[0m \u001b[1;33m=\u001b[0m \u001b[0mself\u001b[0m\u001b[1;33m.\u001b[0m\u001b[0m_read_status\u001b[0m\u001b[1;33m(\u001b[0m\u001b[1;33m)\u001b[0m\u001b[1;33m\u001b[0m\u001b[1;33m\u001b[0m\u001b[0m\n\u001b[0m\u001b[0;32m    308\u001b[0m             \u001b[1;32mif\u001b[0m \u001b[0mstatus\u001b[0m \u001b[1;33m!=\u001b[0m \u001b[0mCONTINUE\u001b[0m\u001b[1;33m:\u001b[0m\u001b[1;33m\u001b[0m\u001b[1;33m\u001b[0m\u001b[0m\n\u001b[0;32m    309\u001b[0m                 \u001b[1;32mbreak\u001b[0m\u001b[1;33m\u001b[0m\u001b[1;33m\u001b[0m\u001b[0m\n",
      "\u001b[1;32m~\\anaconda3\\lib\\http\\client.py\u001b[0m in \u001b[0;36m_read_status\u001b[1;34m(self)\u001b[0m\n\u001b[0;32m    266\u001b[0m \u001b[1;33m\u001b[0m\u001b[0m\n\u001b[0;32m    267\u001b[0m     \u001b[1;32mdef\u001b[0m \u001b[0m_read_status\u001b[0m\u001b[1;33m(\u001b[0m\u001b[0mself\u001b[0m\u001b[1;33m)\u001b[0m\u001b[1;33m:\u001b[0m\u001b[1;33m\u001b[0m\u001b[1;33m\u001b[0m\u001b[0m\n\u001b[1;32m--> 268\u001b[1;33m         \u001b[0mline\u001b[0m \u001b[1;33m=\u001b[0m \u001b[0mstr\u001b[0m\u001b[1;33m(\u001b[0m\u001b[0mself\u001b[0m\u001b[1;33m.\u001b[0m\u001b[0mfp\u001b[0m\u001b[1;33m.\u001b[0m\u001b[0mreadline\u001b[0m\u001b[1;33m(\u001b[0m\u001b[0m_MAXLINE\u001b[0m \u001b[1;33m+\u001b[0m \u001b[1;36m1\u001b[0m\u001b[1;33m)\u001b[0m\u001b[1;33m,\u001b[0m \u001b[1;34m\"iso-8859-1\"\u001b[0m\u001b[1;33m)\u001b[0m\u001b[1;33m\u001b[0m\u001b[1;33m\u001b[0m\u001b[0m\n\u001b[0m\u001b[0;32m    269\u001b[0m         \u001b[1;32mif\u001b[0m \u001b[0mlen\u001b[0m\u001b[1;33m(\u001b[0m\u001b[0mline\u001b[0m\u001b[1;33m)\u001b[0m \u001b[1;33m>\u001b[0m \u001b[0m_MAXLINE\u001b[0m\u001b[1;33m:\u001b[0m\u001b[1;33m\u001b[0m\u001b[1;33m\u001b[0m\u001b[0m\n\u001b[0;32m    270\u001b[0m             \u001b[1;32mraise\u001b[0m \u001b[0mLineTooLong\u001b[0m\u001b[1;33m(\u001b[0m\u001b[1;34m\"status line\"\u001b[0m\u001b[1;33m)\u001b[0m\u001b[1;33m\u001b[0m\u001b[1;33m\u001b[0m\u001b[0m\n",
      "\u001b[1;32m~\\anaconda3\\lib\\socket.py\u001b[0m in \u001b[0;36mreadinto\u001b[1;34m(self, b)\u001b[0m\n\u001b[0;32m    667\u001b[0m         \u001b[1;32mwhile\u001b[0m \u001b[1;32mTrue\u001b[0m\u001b[1;33m:\u001b[0m\u001b[1;33m\u001b[0m\u001b[1;33m\u001b[0m\u001b[0m\n\u001b[0;32m    668\u001b[0m             \u001b[1;32mtry\u001b[0m\u001b[1;33m:\u001b[0m\u001b[1;33m\u001b[0m\u001b[1;33m\u001b[0m\u001b[0m\n\u001b[1;32m--> 669\u001b[1;33m                 \u001b[1;32mreturn\u001b[0m \u001b[0mself\u001b[0m\u001b[1;33m.\u001b[0m\u001b[0m_sock\u001b[0m\u001b[1;33m.\u001b[0m\u001b[0mrecv_into\u001b[0m\u001b[1;33m(\u001b[0m\u001b[0mb\u001b[0m\u001b[1;33m)\u001b[0m\u001b[1;33m\u001b[0m\u001b[1;33m\u001b[0m\u001b[0m\n\u001b[0m\u001b[0;32m    670\u001b[0m             \u001b[1;32mexcept\u001b[0m \u001b[0mtimeout\u001b[0m\u001b[1;33m:\u001b[0m\u001b[1;33m\u001b[0m\u001b[1;33m\u001b[0m\u001b[0m\n\u001b[0;32m    671\u001b[0m                 \u001b[0mself\u001b[0m\u001b[1;33m.\u001b[0m\u001b[0m_timeout_occurred\u001b[0m \u001b[1;33m=\u001b[0m \u001b[1;32mTrue\u001b[0m\u001b[1;33m\u001b[0m\u001b[1;33m\u001b[0m\u001b[0m\n",
      "\u001b[1;31mKeyboardInterrupt\u001b[0m: "
     ]
    }
   ],
   "source": [
    "main(\"laptop\", \"Amazon_Laptop.csv\")"
   ]
  },
  {
   "cell_type": "code",
   "execution_count": 6,
   "id": "3e0f0324",
   "metadata": {
    "collapsed": true
   },
   "outputs": [
    {
     "ename": "FileNotFoundError",
     "evalue": "[Errno 2] No such file or directory: 'Amazon_Laptop.csv'",
     "output_type": "error",
     "traceback": [
      "\u001b[1;31m---------------------------------------------------------------------------\u001b[0m",
      "\u001b[1;31mFileNotFoundError\u001b[0m                         Traceback (most recent call last)",
      "\u001b[1;32m<ipython-input-6-cf25004aacba>\u001b[0m in \u001b[0;36m<module>\u001b[1;34m\u001b[0m\n\u001b[1;32m----> 1\u001b[1;33m \u001b[0mdf\u001b[0m\u001b[1;33m=\u001b[0m\u001b[0mpd\u001b[0m\u001b[1;33m.\u001b[0m\u001b[0mread_csv\u001b[0m\u001b[1;33m(\u001b[0m\u001b[1;34m'Amazon_Laptop.csv'\u001b[0m\u001b[1;33m)\u001b[0m\u001b[1;33m\u001b[0m\u001b[1;33m\u001b[0m\u001b[0m\n\u001b[0m",
      "\u001b[1;32m~\\anaconda3\\lib\\site-packages\\pandas\\io\\parsers.py\u001b[0m in \u001b[0;36mread_csv\u001b[1;34m(filepath_or_buffer, sep, delimiter, header, names, index_col, usecols, squeeze, prefix, mangle_dupe_cols, dtype, engine, converters, true_values, false_values, skipinitialspace, skiprows, skipfooter, nrows, na_values, keep_default_na, na_filter, verbose, skip_blank_lines, parse_dates, infer_datetime_format, keep_date_col, date_parser, dayfirst, cache_dates, iterator, chunksize, compression, thousands, decimal, lineterminator, quotechar, quoting, doublequote, escapechar, comment, encoding, dialect, error_bad_lines, warn_bad_lines, delim_whitespace, low_memory, memory_map, float_precision, storage_options)\u001b[0m\n\u001b[0;32m    608\u001b[0m     \u001b[0mkwds\u001b[0m\u001b[1;33m.\u001b[0m\u001b[0mupdate\u001b[0m\u001b[1;33m(\u001b[0m\u001b[0mkwds_defaults\u001b[0m\u001b[1;33m)\u001b[0m\u001b[1;33m\u001b[0m\u001b[1;33m\u001b[0m\u001b[0m\n\u001b[0;32m    609\u001b[0m \u001b[1;33m\u001b[0m\u001b[0m\n\u001b[1;32m--> 610\u001b[1;33m     \u001b[1;32mreturn\u001b[0m \u001b[0m_read\u001b[0m\u001b[1;33m(\u001b[0m\u001b[0mfilepath_or_buffer\u001b[0m\u001b[1;33m,\u001b[0m \u001b[0mkwds\u001b[0m\u001b[1;33m)\u001b[0m\u001b[1;33m\u001b[0m\u001b[1;33m\u001b[0m\u001b[0m\n\u001b[0m\u001b[0;32m    611\u001b[0m \u001b[1;33m\u001b[0m\u001b[0m\n\u001b[0;32m    612\u001b[0m \u001b[1;33m\u001b[0m\u001b[0m\n",
      "\u001b[1;32m~\\anaconda3\\lib\\site-packages\\pandas\\io\\parsers.py\u001b[0m in \u001b[0;36m_read\u001b[1;34m(filepath_or_buffer, kwds)\u001b[0m\n\u001b[0;32m    460\u001b[0m \u001b[1;33m\u001b[0m\u001b[0m\n\u001b[0;32m    461\u001b[0m     \u001b[1;31m# Create the parser.\u001b[0m\u001b[1;33m\u001b[0m\u001b[1;33m\u001b[0m\u001b[1;33m\u001b[0m\u001b[0m\n\u001b[1;32m--> 462\u001b[1;33m     \u001b[0mparser\u001b[0m \u001b[1;33m=\u001b[0m \u001b[0mTextFileReader\u001b[0m\u001b[1;33m(\u001b[0m\u001b[0mfilepath_or_buffer\u001b[0m\u001b[1;33m,\u001b[0m \u001b[1;33m**\u001b[0m\u001b[0mkwds\u001b[0m\u001b[1;33m)\u001b[0m\u001b[1;33m\u001b[0m\u001b[1;33m\u001b[0m\u001b[0m\n\u001b[0m\u001b[0;32m    463\u001b[0m \u001b[1;33m\u001b[0m\u001b[0m\n\u001b[0;32m    464\u001b[0m     \u001b[1;32mif\u001b[0m \u001b[0mchunksize\u001b[0m \u001b[1;32mor\u001b[0m \u001b[0miterator\u001b[0m\u001b[1;33m:\u001b[0m\u001b[1;33m\u001b[0m\u001b[1;33m\u001b[0m\u001b[0m\n",
      "\u001b[1;32m~\\anaconda3\\lib\\site-packages\\pandas\\io\\parsers.py\u001b[0m in \u001b[0;36m__init__\u001b[1;34m(self, f, engine, **kwds)\u001b[0m\n\u001b[0;32m    817\u001b[0m             \u001b[0mself\u001b[0m\u001b[1;33m.\u001b[0m\u001b[0moptions\u001b[0m\u001b[1;33m[\u001b[0m\u001b[1;34m\"has_index_names\"\u001b[0m\u001b[1;33m]\u001b[0m \u001b[1;33m=\u001b[0m \u001b[0mkwds\u001b[0m\u001b[1;33m[\u001b[0m\u001b[1;34m\"has_index_names\"\u001b[0m\u001b[1;33m]\u001b[0m\u001b[1;33m\u001b[0m\u001b[1;33m\u001b[0m\u001b[0m\n\u001b[0;32m    818\u001b[0m \u001b[1;33m\u001b[0m\u001b[0m\n\u001b[1;32m--> 819\u001b[1;33m         \u001b[0mself\u001b[0m\u001b[1;33m.\u001b[0m\u001b[0m_engine\u001b[0m \u001b[1;33m=\u001b[0m \u001b[0mself\u001b[0m\u001b[1;33m.\u001b[0m\u001b[0m_make_engine\u001b[0m\u001b[1;33m(\u001b[0m\u001b[0mself\u001b[0m\u001b[1;33m.\u001b[0m\u001b[0mengine\u001b[0m\u001b[1;33m)\u001b[0m\u001b[1;33m\u001b[0m\u001b[1;33m\u001b[0m\u001b[0m\n\u001b[0m\u001b[0;32m    820\u001b[0m \u001b[1;33m\u001b[0m\u001b[0m\n\u001b[0;32m    821\u001b[0m     \u001b[1;32mdef\u001b[0m \u001b[0mclose\u001b[0m\u001b[1;33m(\u001b[0m\u001b[0mself\u001b[0m\u001b[1;33m)\u001b[0m\u001b[1;33m:\u001b[0m\u001b[1;33m\u001b[0m\u001b[1;33m\u001b[0m\u001b[0m\n",
      "\u001b[1;32m~\\anaconda3\\lib\\site-packages\\pandas\\io\\parsers.py\u001b[0m in \u001b[0;36m_make_engine\u001b[1;34m(self, engine)\u001b[0m\n\u001b[0;32m   1048\u001b[0m             )\n\u001b[0;32m   1049\u001b[0m         \u001b[1;31m# error: Too many arguments for \"ParserBase\"\u001b[0m\u001b[1;33m\u001b[0m\u001b[1;33m\u001b[0m\u001b[1;33m\u001b[0m\u001b[0m\n\u001b[1;32m-> 1050\u001b[1;33m         \u001b[1;32mreturn\u001b[0m \u001b[0mmapping\u001b[0m\u001b[1;33m[\u001b[0m\u001b[0mengine\u001b[0m\u001b[1;33m]\u001b[0m\u001b[1;33m(\u001b[0m\u001b[0mself\u001b[0m\u001b[1;33m.\u001b[0m\u001b[0mf\u001b[0m\u001b[1;33m,\u001b[0m \u001b[1;33m**\u001b[0m\u001b[0mself\u001b[0m\u001b[1;33m.\u001b[0m\u001b[0moptions\u001b[0m\u001b[1;33m)\u001b[0m  \u001b[1;31m# type: ignore[call-arg]\u001b[0m\u001b[1;33m\u001b[0m\u001b[1;33m\u001b[0m\u001b[0m\n\u001b[0m\u001b[0;32m   1051\u001b[0m \u001b[1;33m\u001b[0m\u001b[0m\n\u001b[0;32m   1052\u001b[0m     \u001b[1;32mdef\u001b[0m \u001b[0m_failover_to_python\u001b[0m\u001b[1;33m(\u001b[0m\u001b[0mself\u001b[0m\u001b[1;33m)\u001b[0m\u001b[1;33m:\u001b[0m\u001b[1;33m\u001b[0m\u001b[1;33m\u001b[0m\u001b[0m\n",
      "\u001b[1;32m~\\anaconda3\\lib\\site-packages\\pandas\\io\\parsers.py\u001b[0m in \u001b[0;36m__init__\u001b[1;34m(self, src, **kwds)\u001b[0m\n\u001b[0;32m   1865\u001b[0m \u001b[1;33m\u001b[0m\u001b[0m\n\u001b[0;32m   1866\u001b[0m         \u001b[1;31m# open handles\u001b[0m\u001b[1;33m\u001b[0m\u001b[1;33m\u001b[0m\u001b[1;33m\u001b[0m\u001b[0m\n\u001b[1;32m-> 1867\u001b[1;33m         \u001b[0mself\u001b[0m\u001b[1;33m.\u001b[0m\u001b[0m_open_handles\u001b[0m\u001b[1;33m(\u001b[0m\u001b[0msrc\u001b[0m\u001b[1;33m,\u001b[0m \u001b[0mkwds\u001b[0m\u001b[1;33m)\u001b[0m\u001b[1;33m\u001b[0m\u001b[1;33m\u001b[0m\u001b[0m\n\u001b[0m\u001b[0;32m   1868\u001b[0m         \u001b[1;32massert\u001b[0m \u001b[0mself\u001b[0m\u001b[1;33m.\u001b[0m\u001b[0mhandles\u001b[0m \u001b[1;32mis\u001b[0m \u001b[1;32mnot\u001b[0m \u001b[1;32mNone\u001b[0m\u001b[1;33m\u001b[0m\u001b[1;33m\u001b[0m\u001b[0m\n\u001b[0;32m   1869\u001b[0m         \u001b[1;32mfor\u001b[0m \u001b[0mkey\u001b[0m \u001b[1;32min\u001b[0m \u001b[1;33m(\u001b[0m\u001b[1;34m\"storage_options\"\u001b[0m\u001b[1;33m,\u001b[0m \u001b[1;34m\"encoding\"\u001b[0m\u001b[1;33m,\u001b[0m \u001b[1;34m\"memory_map\"\u001b[0m\u001b[1;33m,\u001b[0m \u001b[1;34m\"compression\"\u001b[0m\u001b[1;33m)\u001b[0m\u001b[1;33m:\u001b[0m\u001b[1;33m\u001b[0m\u001b[1;33m\u001b[0m\u001b[0m\n",
      "\u001b[1;32m~\\anaconda3\\lib\\site-packages\\pandas\\io\\parsers.py\u001b[0m in \u001b[0;36m_open_handles\u001b[1;34m(self, src, kwds)\u001b[0m\n\u001b[0;32m   1360\u001b[0m         \u001b[0mLet\u001b[0m \u001b[0mthe\u001b[0m \u001b[0mreaders\u001b[0m \u001b[0mopen\u001b[0m \u001b[0mIOHanldes\u001b[0m \u001b[0mafter\u001b[0m \u001b[0mthey\u001b[0m \u001b[0mare\u001b[0m \u001b[0mdone\u001b[0m \u001b[1;32mwith\u001b[0m \u001b[0mtheir\u001b[0m \u001b[0mpotential\u001b[0m \u001b[0mraises\u001b[0m\u001b[1;33m.\u001b[0m\u001b[1;33m\u001b[0m\u001b[1;33m\u001b[0m\u001b[0m\n\u001b[0;32m   1361\u001b[0m         \"\"\"\n\u001b[1;32m-> 1362\u001b[1;33m         self.handles = get_handle(\n\u001b[0m\u001b[0;32m   1363\u001b[0m             \u001b[0msrc\u001b[0m\u001b[1;33m,\u001b[0m\u001b[1;33m\u001b[0m\u001b[1;33m\u001b[0m\u001b[0m\n\u001b[0;32m   1364\u001b[0m             \u001b[1;34m\"r\"\u001b[0m\u001b[1;33m,\u001b[0m\u001b[1;33m\u001b[0m\u001b[1;33m\u001b[0m\u001b[0m\n",
      "\u001b[1;32m~\\anaconda3\\lib\\site-packages\\pandas\\io\\common.py\u001b[0m in \u001b[0;36mget_handle\u001b[1;34m(path_or_buf, mode, encoding, compression, memory_map, is_text, errors, storage_options)\u001b[0m\n\u001b[0;32m    640\u001b[0m                 \u001b[0merrors\u001b[0m \u001b[1;33m=\u001b[0m \u001b[1;34m\"replace\"\u001b[0m\u001b[1;33m\u001b[0m\u001b[1;33m\u001b[0m\u001b[0m\n\u001b[0;32m    641\u001b[0m             \u001b[1;31m# Encoding\u001b[0m\u001b[1;33m\u001b[0m\u001b[1;33m\u001b[0m\u001b[1;33m\u001b[0m\u001b[0m\n\u001b[1;32m--> 642\u001b[1;33m             handle = open(\n\u001b[0m\u001b[0;32m    643\u001b[0m                 \u001b[0mhandle\u001b[0m\u001b[1;33m,\u001b[0m\u001b[1;33m\u001b[0m\u001b[1;33m\u001b[0m\u001b[0m\n\u001b[0;32m    644\u001b[0m                 \u001b[0mioargs\u001b[0m\u001b[1;33m.\u001b[0m\u001b[0mmode\u001b[0m\u001b[1;33m,\u001b[0m\u001b[1;33m\u001b[0m\u001b[1;33m\u001b[0m\u001b[0m\n",
      "\u001b[1;31mFileNotFoundError\u001b[0m: [Errno 2] No such file or directory: 'Amazon_Laptop.csv'"
     ]
    }
   ],
   "source": [
    "df=pd.read_csv('Amazon_Laptop.csv')"
   ]
  },
  {
   "cell_type": "code",
   "execution_count": null,
   "id": "8c2015c1",
   "metadata": {},
   "outputs": [],
   "source": [
    "df=df['URL']"
   ]
  },
  {
   "cell_type": "code",
   "execution_count": 7,
   "id": "b84f66ed",
   "metadata": {
    "collapsed": true
   },
   "outputs": [
    {
     "ename": "NameError",
     "evalue": "name 'chromedriver' is not defined",
     "output_type": "error",
     "traceback": [
      "\u001b[1;31m---------------------------------------------------------------------------\u001b[0m",
      "\u001b[1;31mNameError\u001b[0m                                 Traceback (most recent call last)",
      "\u001b[1;32m<ipython-input-7-6057cc9c3573>\u001b[0m in \u001b[0;36m<module>\u001b[1;34m\u001b[0m\n\u001b[1;32m----> 1\u001b[1;33m \u001b[0mDRIVER\u001b[0m \u001b[1;33m=\u001b[0m \u001b[0mwebdriver\u001b[0m\u001b[1;33m.\u001b[0m\u001b[0mChrome\u001b[0m\u001b[1;33m(\u001b[0m\u001b[0mchromedriver\u001b[0m\u001b[1;33m)\u001b[0m\u001b[1;33m\u001b[0m\u001b[1;33m\u001b[0m\u001b[0m\n\u001b[0m",
      "\u001b[1;31mNameError\u001b[0m: name 'chromedriver' is not defined"
     ]
    }
   ],
   "source": [
    "DRIVER = webdriver.Chrome(chromedriver)"
   ]
  },
  {
   "cell_type": "code",
   "execution_count": null,
   "id": "8b17b60a",
   "metadata": {},
   "outputs": [],
   "source": [
    "def get_data(url_list:list)->pd.DataFrame:\n",
    "    lst = list()\n",
    "    \n",
    "    for url in track(url_list, description='[green]Stealing in progress...'):\n",
    "        DRIVER.get(url)\n",
    "        SOUP = BeautifulSoup(DRIVER.page_source, 'html.parser')\n",
    "        try:\n",
    "            #Price\n",
    "            if SOUP.find('table', id='productDetails_techSpec_section_2').find_all('tr')!= None:\n",
    "                if SOUP.find('span', id='priceblock_ourprice').text.strip().replace(',', '').replace('$', '')!= None:\n",
    "                    Price = float(SOUP.find('span', id='priceblock_ourprice').text.strip().replace(',', '').replace('$', ''))\n",
    "                else:\n",
    "                    pass\n",
    "                \n",
    "                #SUMMARY\n",
    "                summary_table = SOUP.find('table', id='productDetails_techSpec_section_1').find_all('tr')\n",
    "                summary_table_data = {x.find('th').text.strip().split('\\u200e')[len(x.find('th').text.strip().split('\\u200e'))-1]: x.find('td').text.strip().split('\\u200e')[len(x.find('td').text.strip().split('\\u200e'))-1] for x in summary_table}\n",
    "\n",
    "                # OTHER DETAILS\n",
    "                other_technical_details_table = SOUP.find('table', id='productDetails_techSpec_section_2').find_all('tr')\n",
    "                other_technical_details_table_data = {x.find('th').text.strip().split('\\u200e')[len(x.find('th').text.strip().split('\\u200e'))-1]: x.find('td').text.strip().split('\\u200e')[len(x.find('td').text.strip().split('\\u200e'))-1] for x in other_technical_details_table}\n",
    "\n",
    "                # Merge the two tables in one dictionary then append it to a list\n",
    "                summary_table_data[\"Price\"]=Price\n",
    "                lst.append({**summary_table_data,**other_technical_details_table_data})\n",
    "                \n",
    "        except:\n",
    "             print(url)\n",
    "            \n",
    "        \n",
    "        \n",
    "    return pd.DataFrame(lst)"
   ]
  },
  {
   "cell_type": "code",
   "execution_count": null,
   "id": "a98808b5",
   "metadata": {},
   "outputs": [],
   "source": [
    "df = get_data(df1)"
   ]
  },
  {
   "cell_type": "code",
   "execution_count": null,
   "id": "dab94d2e",
   "metadata": {},
   "outputs": [],
   "source": [
    "df= df.rename(columns={'Standing screen display size': 'display_size','Max Screen Resolution':'Resolution','Hard Drive':'Hard_Drive','Average Battery Life (in hours)':'Battery_Life','Item Weight':'Weight','Processor Brand':'Processor_Brand','Processor Count':'Processor_Count','Flash Memory Size':'Hard_Drive_Size','Hard Drive Interface':'Hard_Drive_Type'})"
   ]
  },
  {
   "cell_type": "code",
   "execution_count": null,
   "id": "d0c1ac4d",
   "metadata": {},
   "outputs": [],
   "source": [
    "df['RAM'] = df['RAM'].replace([2,6,1,128,512,256,9],8)"
   ]
  },
  {
   "cell_type": "code",
   "execution_count": null,
   "id": "4f50232d",
   "metadata": {},
   "outputs": [],
   "source": [
    "df['Processor'] = df['Processor'].replace(['1_2GHz_Cortex_A8'],1.2)"
   ]
  },
  {
   "cell_type": "code",
   "execution_count": null,
   "id": "0c7dc899",
   "metadata": {},
   "outputs": [],
   "source": [
    "df=df.drop(columns=['Item Dimensions  LxWxH'])"
   ]
  },
  {
   "cell_type": "code",
   "execution_count": null,
   "id": "d0356dbb",
   "metadata": {},
   "outputs": [],
   "source": [
    "df=df.drop(columns=['Unnamed: 0', 'Card Description','Rear Webcam Resolution','Graphics Card Ram Size','Voltage','Package Dimensions','Manufacturer','ASIN','Date First Available','Number of USB 2.0 Ports','Computer Memory Type','Screen Resolution','Hardware Platform','Hard Drive Rotational Speed','National Stock Number','Power Source','Optical Drive Type','Product Dimensions','Operating System','Number of USB 3.0 Ports','Item model number','Series','Batteries','Wireless Type','Graphics Coprocessor','Memory Speed'])"
   ]
  },
  {
   "cell_type": "code",
   "execution_count": null,
   "id": "ed575dca",
   "metadata": {},
   "outputs": [],
   "source": [
    "df['Price']=df['Price'].apply(pd.to_numeric)"
   ]
  },
  {
   "cell_type": "code",
   "execution_count": null,
   "id": "dd816f86",
   "metadata": {},
   "outputs": [],
   "source": [
    "df[['display_size','inches']]=df.display_size.str.split(\" \",expand=True)"
   ]
  },
  {
   "cell_type": "code",
   "execution_count": null,
   "id": "0ef67407",
   "metadata": {},
   "outputs": [],
   "source": [
    "df['display_size']=df['display_size'].apply(pd.to_numeric)"
   ]
  },
  {
   "cell_type": "code",
   "execution_count": null,
   "id": "39d1f793",
   "metadata": {},
   "outputs": [],
   "source": [
    "df = df.rename(columns={'Processor_Count':'Processor_Count_Cores'})"
   ]
  },
  {
   "cell_type": "code",
   "execution_count": null,
   "id": "3020c5d9",
   "metadata": {},
   "outputs": [],
   "source": [
    "df=df.drop(columns=['inches'])"
   ]
  },
  {
   "cell_type": "code",
   "execution_count": null,
   "id": "9b5c67e2",
   "metadata": {},
   "outputs": [],
   "source": [
    "df['Weight']=df.Weight.str.split(\" \",expand=True)"
   ]
  },
  {
   "cell_type": "code",
   "execution_count": null,
   "id": "2f0f6285",
   "metadata": {},
   "outputs": [],
   "source": [
    "df['Weight']=df['Weight'].apply(pd.to_numeric)"
   ]
  },
  {
   "cell_type": "code",
   "execution_count": null,
   "id": "acf7e565",
   "metadata": {},
   "outputs": [],
   "source": [
    "df['Processor']=df.Processor.str.split(\" \",expand=True)"
   ]
  },
  {
   "cell_type": "code",
   "execution_count": null,
   "id": "525f30db",
   "metadata": {},
   "outputs": [],
   "source": [
    "df['display_size'].fillna(value=14.0, inplace=True)"
   ]
  },
  {
   "cell_type": "code",
   "execution_count": null,
   "id": "8079c7ab",
   "metadata": {},
   "outputs": [],
   "source": [
    "df['RAM']=df.RAM.str.split(\" \",expand=True)"
   ]
  },
  {
   "cell_type": "code",
   "execution_count": null,
   "id": "c86133b3",
   "metadata": {},
   "outputs": [],
   "source": [
    "df['RAM']=df['RAM'].apply(pd.to_numeric)"
   ]
  },
  {
   "cell_type": "code",
   "execution_count": null,
   "id": "af5a5248",
   "metadata": {},
   "outputs": [],
   "source": [
    "df['RAM'].fillna(value=8, inplace=True)"
   ]
  },
  {
   "cell_type": "code",
   "execution_count": null,
   "id": "b635f418",
   "metadata": {},
   "outputs": [],
   "source": [
    "mean_value=df['RAM'].mean()\n",
    "print('Mean of values in column RAM:')\n",
    "print(mean_value)"
   ]
  },
  {
   "cell_type": "code",
   "execution_count": null,
   "id": "3e000b05",
   "metadata": {},
   "outputs": [],
   "source": [
    "df['Battery_Life']=df.Battery_Life.str.split(\" \",expand=True)"
   ]
  },
  {
   "cell_type": "code",
   "execution_count": null,
   "id": "f27b62b7",
   "metadata": {},
   "outputs": [],
   "source": [
    "df['Battery_Life'] = df['Battery_Life'].replace(['11.0,'],11.0)"
   ]
  },
  {
   "cell_type": "code",
   "execution_count": null,
   "id": "9eb71092",
   "metadata": {},
   "outputs": [],
   "source": [
    "df['Battery_Life']=df['Battery_Life'].apply(pd.to_numeric)"
   ]
  },
  {
   "cell_type": "code",
   "execution_count": null,
   "id": "1dd7dd2a",
   "metadata": {},
   "outputs": [],
   "source": [
    "df.Battery_Life.fillna(value=8,inplace=True)"
   ]
  },
  {
   "cell_type": "code",
   "execution_count": null,
   "id": "4d8611af",
   "metadata": {},
   "outputs": [],
   "source": [
    "df['Hard_Drive_']=df.Hard_Drive.str.split(\" \",expand=True)"
   ]
  },
  {
   "cell_type": "code",
   "execution_count": null,
   "id": "9af46d3f",
   "metadata": {},
   "outputs": [],
   "source": [
    "df['Hard_Drive'] = df['Hard_Drive'].replace(['1','1.5','6','No','1000'],1000)"
   ]
  },
  {
   "cell_type": "code",
   "execution_count": null,
   "id": "5e027436",
   "metadata": {},
   "outputs": [],
   "source": [
    "df['Hard_Drive'] = df['Hard_Drive'].replace(['Embedded','628','100','PCIe','1024','8','4'],128)"
   ]
  },
  {
   "cell_type": "code",
   "execution_count": null,
   "id": "aa691857",
   "metadata": {},
   "outputs": [],
   "source": [
    "df['Hard_Drive'] = df['Hard_Drive'].replace(['eMMC'],64)"
   ]
  },
  {
   "cell_type": "code",
   "execution_count": null,
   "id": "5af5f586",
   "metadata": {},
   "outputs": [],
   "source": [
    "df['Hard_Drive'] = df['Hard_Drive'].replace(['192','embedded','2556','hdd','750','SSD'],256)"
   ]
  },
  {
   "cell_type": "code",
   "execution_count": null,
   "id": "29090abd",
   "metadata": {},
   "outputs": [],
   "source": [
    "df['Hard_Drive']=df['Hard_Drive'].apply(pd.to_numeric)"
   ]
  },
  {
   "cell_type": "code",
   "execution_count": null,
   "id": "f3248dd7",
   "metadata": {},
   "outputs": [],
   "source": [
    "df.Hard_Drive.fillna(value=512,inplace=True)"
   ]
  },
  {
   "cell_type": "code",
   "execution_count": null,
   "id": "565fa8cd",
   "metadata": {},
   "outputs": [],
   "source": [
    "df.Processor.fillna(value=2.5,inplace=True)"
   ]
  },
  {
   "cell_type": "code",
   "execution_count": null,
   "id": "d3e3c921",
   "metadata": {},
   "outputs": [],
   "source": [
    "df=df.drop([1310,1736,1774])"
   ]
  },
  {
   "cell_type": "code",
   "execution_count": null,
   "id": "91498ad2",
   "metadata": {},
   "outputs": [],
   "source": [
    "df=df.drop(columns=['Hard_Drive_Size','Hard_Drive_Type','Chipset_Brand'])"
   ]
  },
  {
   "cell_type": "code",
   "execution_count": null,
   "id": "bfbb0d02",
   "metadata": {},
   "outputs": [],
   "source": [
    "df.Processor_Count_Cores.fillna(value=4,inplace=True)"
   ]
  },
  {
   "cell_type": "code",
   "execution_count": null,
   "id": "a6020bc5",
   "metadata": {},
   "outputs": [],
   "source": [
    "# Intel \n",
    "df['Processor_Brand'] = df['Processor_Brand'].replace(['Unknown','Qualcomm','Intel Core i5-1145G7','10th Gen Intel Comet Lake Core i7-1065G7','Intel Core i7-1165G7','Intel Celeron Processor J4115','Intel Core i7-1185G7','NVIDIA','Allwinner','VIA','MedieTek','Mediatek'],'Intel')\n",
    "# NVIDIA\n",
    "df['Processor_Brand'] = df['Processor_Brand'].replace([''],'NVIDIA')\n",
    "# AMD \n",
    "df['Processor_Brand'] = df['Processor_Brand'].replace(['AMD Ryzen 5 4600U','AMD Ryzen 5 3500C'],'AMD')"
   ]
  },
  {
   "cell_type": "code",
   "execution_count": null,
   "id": "1b74b7fd",
   "metadata": {},
   "outputs": [],
   "source": [
    "df.loc[df['Brand']==\"N\\'\"]"
   ]
  },
  {
   "cell_type": "code",
   "execution_count": null,
   "id": "b72d69e4",
   "metadata": {},
   "outputs": [],
   "source": [
    "df=df.drop(1094)"
   ]
  },
  {
   "cell_type": "code",
   "execution_count": null,
   "id": "017445d9",
   "metadata": {},
   "outputs": [],
   "source": [
    "df.Processor_Brand.fillna(value='AMD',inplace=True)"
   ]
  },
  {
   "cell_type": "code",
   "execution_count": null,
   "id": "c20fdc4b",
   "metadata": {},
   "outputs": [],
   "source": [
    "# Count Resolution\n",
    "pd.DataFrame(df['Resolution'].value_counts(ascending=True))"
   ]
  },
  {
   "cell_type": "code",
   "execution_count": null,
   "id": "1a8ff4c2",
   "metadata": {},
   "outputs": [],
   "source": [
    "df.Weight.fillna(value=4,inplace=True)"
   ]
  },
  {
   "cell_type": "code",
   "execution_count": null,
   "id": "520ca107",
   "metadata": {},
   "outputs": [],
   "source": [
    "df['Resolution'] = df['Resolution'].replace(['1920x1080 Pixels','1920 x 1080','1920x1080','1920 x 1080 MP','19201080 Pixels','1920X1080 Pixels','1920 X 1080 Pixels','1920 x 1080 Lines Per Inch','1920x1080 Lines Per Inch','19201080 Lines Per Inch','FHD (1920 x 1080) IPS 144Hz Pixels','1920x1080 MP','Full HD (1920 x 1080) IPS 144Hz Pixels','Full HD (1920 x 1080) 144Hz IPS','1920×1080 Pixels','1920 * 1080 Pixels','1,920x1,080 Pixels','FHD (1920 x 1080) IPS Pixels','FHD (1920 x 1080) WVA 120Hz Pixels','1921 x 1080 Pixels','FHD (1920x1080) IPS 144Hz Pixels','Full HD(1920 x 1080) Anti-glare Pixels','Full HD (1920 x 1080)','1920 x 1080 (Full HD)','1920x1080 Pixels','1920 x 1080','1920x1080','1920 x 1080 MP','19201080 Pixels','1920X1080 Pixels','1920 X 1080 Pixels','1920 x 1080 Lines Per Inch','1920x1080 Lines Per Inch','19201080 Lines Per Inch','FHD (1920 x 1080) IPS 144Hz Pixels','1920x1080 MP','Full HD (1920 x 1080) IPS 144Hz Pixels','Full HD (1920 x 1080) 144Hz IPS','1920×1080 Pixels','1920 * 1080 Pixels','1,920x1,080 Pixels','FHD (1920 x 1080) IPS Pixels','FHD (1920 x 1080) WVA 120Hz Pixels','1921 x 1080 Pixels','FHD (1920x1080) IPS 144Hz Pixels','Full HD(1920 x 1080) Anti-glare Pixels','Full HD (1920 x 1080)','1920 x 1080 (Full HD)','1080p Full HD Pixels','1080 Pixels','1290 x 1080','1920*1080 Lines Per Inch','FHD Display','1920*1080 Pixels'],'1920 x 1080 Pixels')"
   ]
  },
  {
   "cell_type": "code",
   "execution_count": null,
   "id": "a2b5cf67",
   "metadata": {},
   "outputs": [],
   "source": [
    "df['Resolution'] = df['Resolution'].replace(['1366x768 Pixels','1366x768','1366X768 Pixels','1366 x 768 MP','HD Display','1366 x 768 Lines Per Inch','1366*768 Pixels','HD (1366 x 768) Touchscreen Pixels','1366X768 pixels','1366X768 pixels','1368x766 Pixels','1366 X 768','1366x768 MP','1361 x 768 Pixels','1366x766 Pixels','1366 X 768 MP','1366 x 768 HD Pixels','HD (1366 x 768) SVA Pixels','1366×768 Pixels','HD ( 1366 x 768 )','HD (1366 x 768) Pixels','1366 Pixels','1366*768 pixels','1366x768 pixels','1366 x 768'],'1366x768 pixels'"
   ]
  },
  {
   "cell_type": "code",
   "execution_count": null,
   "id": "4a49dc24",
   "metadata": {},
   "outputs": [],
   "source": [
    "df['Resolution'] = df['Resolution'].replace(['2160 X 1440 Pixels','2560 x 1440 Pixels','2560 x 1600 Pixels','2560 x 1440','2560x1440 Pixels','2160 x 1350 Pixels','2048 x 1536','2048 x 1536','2256 x 1504','2160x1440 Pixels','2160*1440 Pixels','2560 x 1600 Lines Per Inch','2666 Pixels','2496 x 1664','2560 x 1600','2256 x 1504 Pixels','4096 x 2304 Pixels'],'2K')"
   ]
  },
  {
   "cell_type": "code",
   "execution_count": null,
   "id": "3468bb5b",
   "metadata": {},
   "outputs": [],
   "source": [
    "df['Resolution'] = df['Resolution'].replace(['1600 x 900 Pixels','1,600 x 900 Pixels','HD+ Display','1600 x 900 Lines Per Inch','1600x900 MP','HD+ (1600 x 900) Pixels','1600 x 900 Pixels','1600 x 900','1600x900','1600x900 Pixels','1600 x 900 Pixels'],'1600 x 900 Pixels')"
   ]
  },
  {
   "cell_type": "code",
   "execution_count": null,
   "id": "b6582be1",
   "metadata": {},
   "outputs": [],
   "source": [
    "df['Resolution'] = df['Resolution'].replace(['3840 x 2160','3840 x 2400 Pixels','3000 x 2000 Pixels','4096×2304 @24Hz Lines Per Inch','3240 x 2160','3200 x 1800 Pixels','4K Lines Per Inch','3200X1800 pixels','3300 x 2200 Pixels','3840 x 2160','3840 x 2160 Pixels','3840 x 2400','4K UHD (3840 x 2160)','3840X2160 Pixels','3840 x 2160','3840 x 2400 Pixels','3000 x 2000 Pixels','4096×2304 @24Hz Lines Per Inch','3240 x 2160'],'4K')"
   ]
  },
  {
   "cell_type": "code",
   "execution_count": null,
   "id": "5026cfd5",
   "metadata": {},
   "outputs": [],
   "source": [
    "df['Resolution'] = df['Resolution'].replace(['1920 x 1200','1900*1200 Pixels','1920x1200 Pixels','1920X1200 Pixels','1920*1200 Pixels','1920 x 1200 Pixels'],'1920 X 1200 Pixels')"
   ]
  },
  {
   "cell_type": "code",
   "execution_count": null,
   "id": "7338fbfe",
   "metadata": {},
   "outputs": [],
   "source": [
    "df['Resolution'] = df['Resolution'].replace(['1600 x 900','1600x900','1600x900 Pixels','1600 x 900 Pixels'],'1600 x 900 Pixels')"
   ]
  },
  {
   "cell_type": "code",
   "execution_count": null,
   "id": "2b354cdf",
   "metadata": {},
   "outputs": [],
   "source": [
    "df['Resolution'] = df['Resolution'].replace(['1280×720 Pixels','1280 x 720 Pixels','1280 x 720','1280 X 800 Pixels'],'1280×720 Pixels')"
   ]
  },
  {
   "cell_type": "code",
   "execution_count": null,
   "id": "5a3bc3e7",
   "metadata": {},
   "outputs": [],
   "source": [
    "df['Resolution'] = df['Resolution'].replace(['1024*600 Pixels','1024 Lines Per Inch'],'1024*600')"
   ]
  },
  {
   "cell_type": "code",
   "execution_count": null,
   "id": "ef0b3acb",
   "metadata": {},
   "outputs": [],
   "source": [
    "df['Resolution'] = df['Resolution'].replace(['1366 x 912 Pixels','1366 x 912 MP'],'1366 x 912 Pixels')"
   ]
  },
  {
   "cell_type": "code",
   "execution_count": null,
   "id": "73ead5f6",
   "metadata": {},
   "outputs": [],
   "source": [
    "df['Resolution'] = df['Resolution'].replace(['1366 x 912 Pixels','1366 x 768 Pixels'],'1366 x 768 Pixels')"
   ]
  },
  {
   "cell_type": "code",
   "execution_count": null,
   "id": "d4b713d7",
   "metadata": {},
   "outputs": [],
   "source": [
    "df.Resolution.fillna(value='1280×720 Pixels', inplace=True, limit=126)"
   ]
  },
  {
   "cell_type": "code",
   "execution_count": null,
   "id": "d069ebd7",
   "metadata": {},
   "outputs": [],
   "source": [
    "df.Resolution.fillna(value='4K', inplace=True, limit=126)"
   ]
  },
  {
   "cell_type": "code",
   "execution_count": null,
   "id": "b4d66df7",
   "metadata": {},
   "outputs": [],
   "source": [
    "df.Resolution.fillna(value='1920 x 1080 Pixels', inplace=True, limit=126)"
   ]
  },
  {
   "cell_type": "code",
   "execution_count": null,
   "id": "1f36fe31",
   "metadata": {},
   "outputs": [],
   "source": [
    "df.Resolution.fillna(value='1366 x 912 Pixels', inplace=True, limit=126)"
   ]
  },
  {
   "cell_type": "code",
   "execution_count": null,
   "id": "2b246f16",
   "metadata": {},
   "outputs": [],
   "source": [
    "df.Resolution.fillna(value='2K', inplace=True, limit=126)"
   ]
  },
  {
   "cell_type": "code",
   "execution_count": null,
   "id": "5d87f8e2",
   "metadata": {},
   "outputs": [],
   "source": [
    "df['Color'] = df['Color'].replace(['Mica','Almond'],'Others')"
   ]
  },
  {
   "cell_type": "code",
   "execution_count": null,
   "id": "04c4b21a",
   "metadata": {},
   "outputs": [],
   "source": [
    "# Count Resolution\n",
    "pd.DataFrame(df['Resolution'].value_counts(ascending=True))"
   ]
  },
  {
   "cell_type": "code",
   "execution_count": null,
   "id": "149e7b89",
   "metadata": {},
   "outputs": [],
   "source": [
    "# Color\n",
    "m = df['Color'].str.contains('Gray', na=False)\n",
    "df.loc[m,'Color'] = 'Gray'\n",
    "m = df['Color'].str.contains('Gery', na=False)\n",
    "df.loc[m,'Color'] = 'Gray'\n",
    "m = df['Color'].str.contains('Grey', na=False)\n",
    "df.loc[m,'Color'] = 'Gray'\n",
    "m = df['Color'].str.contains('grey', na=False)\n",
    "df.loc[m,'Color'] = 'Gray'\n",
    "m = df['Color'].str.contains('Black', na=False)\n",
    "df.loc[m,'Color'] = 'Black'\n",
    "m = df['Color'].str.contains('Blue', na=False)\n",
    "df.loc[m,'Color'] = 'Blue'\n",
    "m = df['Color'].str.contains('Silver', na=False)\n",
    "df.loc[m,'Color'] = 'Silver'\n",
    "m = df['Color'].str.contains('Gold', na=False)\n",
    "df.loc[m,'Color'] = 'Gold' \n",
    "m = df['Color'].str.contains('White', na=False)\n",
    "df.loc[m,'Color'] = 'White'\n",
    "m = df['Color'].str.contains('Red', na=False)\n",
    "df.loc[m,'Color'] = 'Red'\n",
    "m = df['Color'].str.contains('Sliver', na=False)\n",
    "df.loc[m,'Color'] = 'Silver'\n",
    "m = df['Color'].str.contains('gold', na=False)\n",
    "df.loc[m,'Color'] = 'Gold'\n",
    "df['Color'] = df['Color'].replace(['GTX 1660 Ti','Windows 10 Pro','4G','Dark blue','Core-i5','Machined Aluminum','Jet black','Electro Punk','灰色','SLIVER','黑色','Intel Celeron N4020','Non-Touchscreen','AORUS 15G - Alloy + Mech Keyboard','Dark Orchid','BLACK, GREEN','Navy','Snowflake white','Citrus Soda Yellow','Non-Touch | i3-7130U | 128GB SSD','Light Titan','Forest teal with matte finish','Carbon Fiber','15 inch FHD','Bronze','15.6\" | AERO 15 | TOP SELLER','Y13Pro/13.3inch','Dune','M16-i9-11900H-RTX 3060-16G/1T','Core black','Natural silver','NEW','Flaming Copper','银色','Forest Teal','Sandstorm','Platinum Titan','Purple','Green','Rose Pink','Sand'],'Black')"
   ]
  },
  {
   "cell_type": "code",
   "execution_count": null,
   "id": "cd422b75",
   "metadata": {},
   "outputs": [],
   "source": [
    "df['Color'] = df['Color'].replace(['Mica','Almond'],'Others')"
   ]
  },
  {
   "cell_type": "code",
   "execution_count": null,
   "id": "e469b221",
   "metadata": {},
   "outputs": [],
   "source": [
    "df.Resolution.fillna(value='Almond', inplace=True, limit=11)"
   ]
  },
  {
   "cell_type": "code",
   "execution_count": null,
   "id": "566dd84e",
   "metadata": {},
   "outputs": [],
   "source": [
    "df.Resolution.fillna(value='Others', inplace=True, limit=250)"
   ]
  },
  {
   "cell_type": "code",
   "execution_count": null,
   "id": "2916968a",
   "metadata": {},
   "outputs": [],
   "source": [
    "df.Resolution.fillna(value='Silver', inplace=True, limit=100)"
   ]
  },
  {
   "cell_type": "code",
   "execution_count": null,
   "id": "9a9393d8",
   "metadata": {},
   "outputs": [],
   "source": [
    "df.Resolution.fillna(value='White', inplace=True, limit=100)"
   ]
  },
  {
   "cell_type": "code",
   "execution_count": null,
   "id": "5bc59ea7",
   "metadata": {},
   "outputs": [],
   "source": [
    "df.Resolution.fillna(value='Blue', inplace=True, limit=100)"
   ]
  },
  {
   "cell_type": "code",
   "execution_count": null,
   "id": "e4e4fe98",
   "metadata": {},
   "outputs": [],
   "source": [
    "df.Resolution.fillna(value='Gold', inplace=True, limit=150)"
   ]
  },
  {
   "cell_type": "code",
   "execution_count": null,
   "id": "55d96bf9",
   "metadata": {},
   "outputs": [],
   "source": [
    "df=df.drop(817)"
   ]
  },
  {
   "cell_type": "code",
   "execution_count": null,
   "id": "5895ea62",
   "metadata": {},
   "outputs": [],
   "source": [
    "df['Processor_Count_Cores'] = df['Processor_Count_Cores'].replace([12],8.0)"
   ]
  },
  {
   "cell_type": "code",
   "execution_count": null,
   "id": "7775ace3",
   "metadata": {},
   "outputs": [],
   "source": [
    "# Count RAM\n",
    "pd.DataFrame(df['RAM'].value_counts(ascending=True))"
   ]
  },
  {
   "cell_type": "code",
   "execution_count": null,
   "id": "9ebf53a6",
   "metadata": {},
   "outputs": [],
   "source": [
    "# Intel \n",
    "df['Processor_Brand'] = df['Processor_Brand'].replace(['Unknown','Qualcomm','Intel Core i5-1145G7','10th Gen Intel Comet Lake Core i7-1065G7','Intel Core i7-1165G7','Intel Celeron Processor J4115','Intel Core i7-1185G7','NVIDIA','Allwinner','VIA','MedieTek','Mediatek'],'Intel')\n",
    "# NVIDIA\n",
    "df['Processor_Brand'] = df['Processor_Brand'].replace([''],'NVIDIA')\n",
    "# AMD \n",
    "df['Processor_Brand'] = df['Processor_Brand'].replace(['AMD Ryzen 5 4600U','AMD Ryzen 5 3500C'],'AMD')"
   ]
  },
  {
   "cell_type": "code",
   "execution_count": null,
   "id": "665ca9e3",
   "metadata": {},
   "outputs": [],
   "source": [
    "df = pd.get_dummies(df, columns=['Resolution','Brand','Color','Processor_Brand'],drop_first=True)"
   ]
  },
  {
   "cell_type": "code",
   "execution_count": null,
   "id": "55f6c007",
   "metadata": {},
   "outputs": [],
   "source": [
    "def linear_regression_score(X, y, kfold:int=5, scoring_type:str='r2'):\n",
    "    lm = LinearRegression()\n",
    "    result = cross_val_score(lm, X, y, cv=kfold, scoring=scoring_type)\n",
    "    return np.mean(result)\n",
    "\n",
    "def lasso_score(X, y, X_val,y_val ,kfold:int=5, scoring_type:str='r2'):\n",
    "    alphas = 10**np.linspace(6,-2,50)*0.5\n",
    "    lasso = Lasso(max_iter=10000, normalize=True)\n",
    "    \n",
    "    lassocv = LassoCV(alphas=None, cv=kfold, max_iter=100000, normalize=True)\n",
    "    lassocv.fit(X_val, y_val)\n",
    "    lasso.set_params(alpha=lassocv.alpha_)\n",
    "    clf = Lasso(alpha=lassocv.alpha_)\n",
    "    scores = cross_val_score(clf, X, y, cv=kfold)\n",
    "    return scores.mean()\n",
    "    \n",
    "def riggid_score(X,y,X_val,y_val,kfold:int=5):\n",
    "    alphas = 10**np.linspace(6,-2,50)*0.5\n",
    "    ridgecv = RidgeCV(alphas=alphas, normalize=True)\n",
    "    ridgecv.fit(X_val, y_val)\n",
    "    ridge6 = Ridge(alpha=ridgecv.alpha_, normalize=True)\n",
    "    ridge6.fit(X, y)\n",
    "    score = cross_val_score(ridge6, X, y, cv=kfold)\n",
    "    return score.mean()\n",
    "    \n",
    "def poly_score(X,y,X_val,y_val,degree:int=2,kfold:int=5):\n",
    "    poly_features = PolynomialFeatures(degree=degree)\n",
    "    X_poly = poly_features.fit_transform(X_val)\n",
    "    poly = LinearRegression()\n",
    "    return np.mean(cross_val_score(poly, X_poly, y_val, cv=kfold))"
   ]
  },
  {
   "cell_type": "code",
   "execution_count": null,
   "id": "872763ce",
   "metadata": {},
   "outputs": [],
   "source": [
    "def scores(df, target:str):\n",
    "    X, X_test, y, y_test = train_test_split(df.loc[:, df.columns != target], df[target], test_size=0.25, random_state=6)\n",
    "    X_train, X_val, y_train, y_val = train_test_split(X, y, test_size=0.25, random_state=6)\n",
    "    linear= linear_regression_score(X_train, y_train)\n",
    "    lasso = lasso_score(X_train, y_train,X_val,y_val,kfold=10)\n",
    "    riggid = riggid_score(X_train, y_train,X_val,y_val,kfold=10)\n",
    "    poly = poly_score(X_train, y_train,X_val,y_val,degree=2,kfold=10)\n",
    "    return {'Linear Score':linear,'Lasso Score':lasso,'Ridge Score':riggid,'Polynomial Score':poly}"
   ]
  },
  {
   "cell_type": "code",
   "execution_count": null,
   "id": "d8d4f251",
   "metadata": {},
   "outputs": [],
   "source": [
    "scores(df, 'Price')"
   ]
  },
  {
   "cell_type": "code",
   "execution_count": null,
   "id": "bb3c71ac",
   "metadata": {},
   "outputs": [],
   "source": []
  },
  {
   "cell_type": "code",
   "execution_count": null,
   "id": "b88bcd33",
   "metadata": {},
   "outputs": [],
   "source": []
  },
  {
   "cell_type": "code",
   "execution_count": null,
   "id": "0d8f44e7",
   "metadata": {},
   "outputs": [],
   "source": []
  }
 ],
 "metadata": {
  "kernelspec": {
   "display_name": "Python 3",
   "language": "python",
   "name": "python3"
  },
  "language_info": {
   "codemirror_mode": {
    "name": "ipython",
    "version": 3
   },
   "file_extension": ".py",
   "mimetype": "text/x-python",
   "name": "python",
   "nbconvert_exporter": "python",
   "pygments_lexer": "ipython3",
   "version": "3.8.8"
  }
 },
 "nbformat": 4,
 "nbformat_minor": 5
}
